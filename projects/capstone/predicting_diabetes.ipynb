{
 "cells": [
  {
   "cell_type": "markdown",
   "metadata": {},
   "source": [
    "# Machine Learning Engineer Nanodegree\n",
    "## Capstone Project\n",
    "## Project: Predicting The Onset of Diabetes Based on Diagnostic Measures"
   ]
  },
  {
   "cell_type": "markdown",
   "metadata": {},
   "source": [
    "## Stage 0 — Data Preparation\n",
    "\n",
    "In the code cell below, we import the necessary libraries and import **Pima Indians Diabetes Database** dataset to the Jupyter notebook as DataFrame."
   ]
  },
  {
   "cell_type": "code",
   "execution_count": 1,
   "metadata": {},
   "outputs": [
    {
     "name": "stdout",
     "output_type": "stream",
     "text": [
      "The version of pandas: 0.20.3\n"
     ]
    }
   ],
   "source": [
    "%matplotlib inline\n",
    "import pandas as pd\n",
    "print(\"The version of pandas: {}\".format(pd.__version__))\n",
    "import numpy as np\n",
    "import matplotlib.pyplot as plt\n",
    "import seaborn as sns\n",
    "diabetes = pd.read_csv('datasets/diabetes.csv')"
   ]
  },
  {
   "cell_type": "markdown",
   "metadata": {},
   "source": [
    "## Stage 1 — Data Exploration\n",
    "Print the headers of the dataset, find the dimension of the dataset, identity how many persons are diabetic or not, and finally, use `'head()'` function in pandas to take a look at the first five rows in the dataset."
   ]
  },
  {
   "cell_type": "code",
   "execution_count": 2,
   "metadata": {},
   "outputs": [
    {
     "name": "stdout",
     "output_type": "stream",
     "text": [
      "The dimensions of Pima Indians Diabetes Database dataset: (768, 9)\n",
      "Outcome\n",
      "0    500\n",
      "1    268\n",
      "dtype: int64\n"
     ]
    },
    {
     "data": {
      "text/plain": [
       "<matplotlib.axes._subplots.AxesSubplot at 0x105ad6950>"
      ]
     },
     "execution_count": 2,
     "metadata": {},
     "output_type": "execute_result"
    },
    {
     "data": {
      "image/png": "[encoded data removed]",
      "text/plain": [
       "<matplotlib.figure.Figure at 0x10a74c850>"
      ]
     },
     "metadata": {},
     "output_type": "display_data"
    }
   ],
   "source": [
    "print(\"The dimensions of Pima Indians Diabetes Database dataset: {}\".format(diabetes.shape))\n",
    "print(diabetes.groupby('Outcome').size())\n",
    "sns.countplot(diabetes['Outcome'],label=\"Count\")"
   ]
  },
  {
   "cell_type": "code",
   "execution_count": 4,
   "metadata": {},
   "outputs": [
    {
     "data": {
      "text/html": [
       "<div>\n",
       "<style>\n",
       "    .dataframe thead tr:only-child th {\n",
       "        text-align: right;\n",
       "    }\n",
       "\n",
       "    .dataframe thead th {\n",
       "        text-align: left;\n",
       "    }\n",
       "\n",
       "    .dataframe tbody tr th {\n",
       "        vertical-align: top;\n",
       "    }\n",
       "</style>\n",
       "<table border=\"1\" class=\"dataframe\">\n",
       "  <thead>\n",
       "    <tr style=\"text-align: right;\">\n",
       "      <th></th>\n",
       "      <th>Pregnancies</th>\n",
       "      <th>Glucose</th>\n",
       "      <th>BloodPressure</th>\n",
       "      <th>SkinThickness</th>\n",
       "      <th>Insulin</th>\n",
       "      <th>BMI</th>\n",
       "      <th>DiabetesPedigreeFunction</th>\n",
       "      <th>Age</th>\n",
       "      <th>Outcome</th>\n",
       "    </tr>\n",
       "  </thead>\n",
       "  <tbody>\n",
       "    <tr>\n",
       "      <th>0</th>\n",
       "      <td>6</td>\n",
       "      <td>148</td>\n",
       "      <td>72</td>\n",
       "      <td>35</td>\n",
       "      <td>0</td>\n",
       "      <td>33.6</td>\n",
       "      <td>0.627</td>\n",
       "      <td>50</td>\n",
       "      <td>1</td>\n",
       "    </tr>\n",
       "    <tr>\n",
       "      <th>1</th>\n",
       "      <td>1</td>\n",
       "      <td>85</td>\n",
       "      <td>66</td>\n",
       "      <td>29</td>\n",
       "      <td>0</td>\n",
       "      <td>26.6</td>\n",
       "      <td>0.351</td>\n",
       "      <td>31</td>\n",
       "      <td>0</td>\n",
       "    </tr>\n",
       "    <tr>\n",
       "      <th>2</th>\n",
       "      <td>8</td>\n",
       "      <td>183</td>\n",
       "      <td>64</td>\n",
       "      <td>0</td>\n",
       "      <td>0</td>\n",
       "      <td>23.3</td>\n",
       "      <td>0.672</td>\n",
       "      <td>32</td>\n",
       "      <td>1</td>\n",
       "    </tr>\n",
       "    <tr>\n",
       "      <th>3</th>\n",
       "      <td>1</td>\n",
       "      <td>89</td>\n",
       "      <td>66</td>\n",
       "      <td>23</td>\n",
       "      <td>94</td>\n",
       "      <td>28.1</td>\n",
       "      <td>0.167</td>\n",
       "      <td>21</td>\n",
       "      <td>0</td>\n",
       "    </tr>\n",
       "    <tr>\n",
       "      <th>4</th>\n",
       "      <td>0</td>\n",
       "      <td>137</td>\n",
       "      <td>40</td>\n",
       "      <td>35</td>\n",
       "      <td>168</td>\n",
       "      <td>43.1</td>\n",
       "      <td>2.288</td>\n",
       "      <td>33</td>\n",
       "      <td>1</td>\n",
       "    </tr>\n",
       "  </tbody>\n",
       "</table>\n",
       "</div>"
      ],
      "text/plain": [
       "   Pregnancies  Glucose  BloodPressure  SkinThickness  Insulin   BMI  \\\n",
       "0            6      148             72             35        0  33.6   \n",
       "1            1       85             66             29        0  26.6   \n",
       "2            8      183             64              0        0  23.3   \n",
       "3            1       89             66             23       94  28.1   \n",
       "4            0      137             40             35      168  43.1   \n",
       "\n",
       "   DiabetesPedigreeFunction  Age  Outcome  \n",
       "0                     0.627   50        1  \n",
       "1                     0.351   31        0  \n",
       "2                     0.672   32        1  \n",
       "3                     0.167   21        0  \n",
       "4                     2.288   33        1  "
      ]
     },
     "execution_count": 4,
     "metadata": {},
     "output_type": "execute_result"
    }
   ],
   "source": [
    "diabetes.head()"
   ]
  },
  {
   "cell_type": "code",
   "execution_count": 5,
   "metadata": {},
   "outputs": [
    {
     "data": {
      "text/html": [
       "<div>\n",
       "<style>\n",
       "    .dataframe thead tr:only-child th {\n",
       "        text-align: right;\n",
       "    }\n",
       "\n",
       "    .dataframe thead th {\n",
       "        text-align: left;\n",
       "    }\n",
       "\n",
       "    .dataframe tbody tr th {\n",
       "        vertical-align: top;\n",
       "    }\n",
       "</style>\n",
       "<table border=\"1\" class=\"dataframe\">\n",
       "  <thead>\n",
       "    <tr style=\"text-align: right;\">\n",
       "      <th></th>\n",
       "      <th>Pregnancies</th>\n",
       "      <th>Glucose</th>\n",
       "      <th>BloodPressure</th>\n",
       "      <th>SkinThickness</th>\n",
       "      <th>Insulin</th>\n",
       "      <th>BMI</th>\n",
       "      <th>DiabetesPedigreeFunction</th>\n",
       "      <th>Age</th>\n",
       "      <th>Outcome</th>\n",
       "    </tr>\n",
       "  </thead>\n",
       "  <tbody>\n",
       "    <tr>\n",
       "      <th>count</th>\n",
       "      <td>768.000000</td>\n",
       "      <td>768.000000</td>\n",
       "      <td>768.000000</td>\n",
       "      <td>768.000000</td>\n",
       "      <td>768.000000</td>\n",
       "      <td>768.000000</td>\n",
       "      <td>768.000000</td>\n",
       "      <td>768.000000</td>\n",
       "      <td>768.000000</td>\n",
       "    </tr>\n",
       "    <tr>\n",
       "      <th>mean</th>\n",
       "      <td>3.845052</td>\n",
       "      <td>120.894531</td>\n",
       "      <td>69.105469</td>\n",
       "      <td>20.536458</td>\n",
       "      <td>79.799479</td>\n",
       "      <td>31.992578</td>\n",
       "      <td>0.471876</td>\n",
       "      <td>33.240885</td>\n",
       "      <td>0.348958</td>\n",
       "    </tr>\n",
       "    <tr>\n",
       "      <th>std</th>\n",
       "      <td>3.369578</td>\n",
       "      <td>31.972618</td>\n",
       "      <td>19.355807</td>\n",
       "      <td>15.952218</td>\n",
       "      <td>115.244002</td>\n",
       "      <td>7.884160</td>\n",
       "      <td>0.331329</td>\n",
       "      <td>11.760232</td>\n",
       "      <td>0.476951</td>\n",
       "    </tr>\n",
       "    <tr>\n",
       "      <th>min</th>\n",
       "      <td>0.000000</td>\n",
       "      <td>0.000000</td>\n",
       "      <td>0.000000</td>\n",
       "      <td>0.000000</td>\n",
       "      <td>0.000000</td>\n",
       "      <td>0.000000</td>\n",
       "      <td>0.078000</td>\n",
       "      <td>21.000000</td>\n",
       "      <td>0.000000</td>\n",
       "    </tr>\n",
       "    <tr>\n",
       "      <th>25%</th>\n",
       "      <td>1.000000</td>\n",
       "      <td>99.000000</td>\n",
       "      <td>62.000000</td>\n",
       "      <td>0.000000</td>\n",
       "      <td>0.000000</td>\n",
       "      <td>27.300000</td>\n",
       "      <td>0.243750</td>\n",
       "      <td>24.000000</td>\n",
       "      <td>0.000000</td>\n",
       "    </tr>\n",
       "    <tr>\n",
       "      <th>50%</th>\n",
       "      <td>3.000000</td>\n",
       "      <td>117.000000</td>\n",
       "      <td>72.000000</td>\n",
       "      <td>23.000000</td>\n",
       "      <td>30.500000</td>\n",
       "      <td>32.000000</td>\n",
       "      <td>0.372500</td>\n",
       "      <td>29.000000</td>\n",
       "      <td>0.000000</td>\n",
       "    </tr>\n",
       "    <tr>\n",
       "      <th>75%</th>\n",
       "      <td>6.000000</td>\n",
       "      <td>140.250000</td>\n",
       "      <td>80.000000</td>\n",
       "      <td>32.000000</td>\n",
       "      <td>127.250000</td>\n",
       "      <td>36.600000</td>\n",
       "      <td>0.626250</td>\n",
       "      <td>41.000000</td>\n",
       "      <td>1.000000</td>\n",
       "    </tr>\n",
       "    <tr>\n",
       "      <th>max</th>\n",
       "      <td>17.000000</td>\n",
       "      <td>199.000000</td>\n",
       "      <td>122.000000</td>\n",
       "      <td>99.000000</td>\n",
       "      <td>846.000000</td>\n",
       "      <td>67.100000</td>\n",
       "      <td>2.420000</td>\n",
       "      <td>81.000000</td>\n",
       "      <td>1.000000</td>\n",
       "    </tr>\n",
       "  </tbody>\n",
       "</table>\n",
       "</div>"
      ],
      "text/plain": [
       "       Pregnancies     Glucose  BloodPressure  SkinThickness     Insulin  \\\n",
       "count   768.000000  768.000000     768.000000     768.000000  768.000000   \n",
       "mean      3.845052  120.894531      69.105469      20.536458   79.799479   \n",
       "std       3.369578   31.972618      19.355807      15.952218  115.244002   \n",
       "min       0.000000    0.000000       0.000000       0.000000    0.000000   \n",
       "25%       1.000000   99.000000      62.000000       0.000000    0.000000   \n",
       "50%       3.000000  117.000000      72.000000      23.000000   30.500000   \n",
       "75%       6.000000  140.250000      80.000000      32.000000  127.250000   \n",
       "max      17.000000  199.000000     122.000000      99.000000  846.000000   \n",
       "\n",
       "              BMI  DiabetesPedigreeFunction         Age     Outcome  \n",
       "count  768.000000                768.000000  768.000000  768.000000  \n",
       "mean    31.992578                  0.471876   33.240885    0.348958  \n",
       "std      7.884160                  0.331329   11.760232    0.476951  \n",
       "min      0.000000                  0.078000   21.000000    0.000000  \n",
       "25%     27.300000                  0.243750   24.000000    0.000000  \n",
       "50%     32.000000                  0.372500   29.000000    0.000000  \n",
       "75%     36.600000                  0.626250   41.000000    1.000000  \n",
       "max     67.100000                  2.420000   81.000000    1.000000  "
      ]
     },
     "execution_count": 5,
     "metadata": {},
     "output_type": "execute_result"
    }
   ],
   "source": [
    "diabetes.describe()"
   ]
  },
  {
   "cell_type": "markdown",
   "metadata": {},
   "source": [
    "### Data Visualization "
   ]
  },
  {
   "cell_type": "code",
   "execution_count": 29,
   "metadata": {},
   "outputs": [
    {
     "data": {
      "text/plain": [
       "Outcome\n",
       "0    [[AxesSubplot(0.125,0.670278;0.215278x0.209722...\n",
       "1    [[AxesSubplot(0.125,0.670278;0.215278x0.209722...\n",
       "dtype: object"
      ]
     },
     "execution_count": 29,
     "metadata": {},
     "output_type": "execute_result"
    },
    {
     "data": {
      "image/png": "[encoded data removed]",
      "text/plain": [
       "<matplotlib.figure.Figure at 0x1a1d332890>"
      ]
     },
     "metadata": {},
     "output_type": "display_data"
    },
    {
     "data": {
      "image/png": "[encoded data removed]",
      "text/plain": [
       "<matplotlib.figure.Figure at 0x1a1d089950>"
      ]
     },
     "metadata": {},
     "output_type": "display_data"
    }
   ],
   "source": [
    "diabetes.groupby('Outcome').hist(figsize=(9, 9))"
   ]
  },
  {
   "cell_type": "markdown",
   "metadata": {},
   "source": [
    "## Stage 2 — Data Cleaning\n",
    "In this stage, we further investigate the dataset to see whether there are:\n",
    "- Missing or null data points.\n",
    "- Unexpected outliers."
   ]
  },
  {
   "cell_type": "markdown",
   "metadata": {},
   "source": [
    "### Missing or Null Data points"
   ]
  },
  {
   "cell_type": "code",
   "execution_count": 30,
   "metadata": {},
   "outputs": [
    {
     "name": "stdout",
     "output_type": "stream",
     "text": [
      "Pregnancies                 0\n",
      "Glucose                     0\n",
      "BloodPressure               0\n",
      "SkinThickness               0\n",
      "Insulin                     0\n",
      "BMI                         0\n",
      "DiabetesPedigreeFunction    0\n",
      "Age                         0\n",
      "Outcome                     0\n",
      "dtype: int64\n"
     ]
    }
   ],
   "source": [
    "print(diabetes.isnull().sum())"
   ]
  },
  {
   "cell_type": "markdown",
   "metadata": {},
   "source": [
    "### Unexpected Outliers"
   ]
  },
  {
   "cell_type": "code",
   "execution_count": 31,
   "metadata": {},
   "outputs": [
    {
     "name": "stdout",
     "output_type": "stream",
     "text": [
      "There are total 35 zero values for blood pressure\n",
      "Outcome\n",
      "0    19\n",
      "1    16\n",
      "dtype: int64\n",
      "\n",
      "There are total 5 zero values for glucose level\n",
      "Outcome\n",
      "0    3\n",
      "1    2\n",
      "dtype: int64\n",
      "\n",
      "There are total 227 zero values for skin fold thickness\n",
      "Outcome\n",
      "0    139\n",
      "1     88\n",
      "dtype: int64\n",
      "\n",
      "There are total 227 zero values for skin fold thickness\n",
      "Outcome\n",
      "0    139\n",
      "1     88\n",
      "dtype: int64\n",
      "\n",
      "There are total 11 zero values for BMI\n",
      "Outcome\n",
      "0    9\n",
      "1    2\n",
      "dtype: int64\n",
      "\n",
      "There are total 374 zero values for insulin \n",
      "Outcome\n",
      "0    236\n",
      "1    138\n",
      "dtype: int64\n"
     ]
    }
   ],
   "source": [
    "print(\"There are total {} zero values for blood pressure\".format(diabetes[diabetes.BloodPressure == 0].shape[0]))\n",
    "print(diabetes[diabetes.BloodPressure == 0].groupby('Outcome').size())\n",
    "print(\"\")\n",
    "print(\"There are total {} zero values for glucose level\".format(diabetes[diabetes.Glucose == 0].shape[0]))\n",
    "print(diabetes[diabetes.Glucose == 0].groupby('Outcome').size())\n",
    "print(\"\")\n",
    "print(\"There are total {} zero values for skin fold thickness\".format(diabetes[diabetes.SkinThickness == 0].shape[0]))\n",
    "print(diabetes[diabetes.SkinThickness == 0].groupby('Outcome').size())\n",
    "print(\"\")\n",
    "print(\"There are total {} zero values for skin fold thickness\".format(diabetes[diabetes.SkinThickness == 0].shape[0]))\n",
    "print(diabetes[diabetes.SkinThickness == 0].groupby('Outcome').size())\n",
    "print(\"\")\n",
    "print(\"There are total {} zero values for BMI\".format(diabetes[diabetes.BMI == 0].shape[0]))\n",
    "print(diabetes[diabetes.BMI  == 0].groupby('Outcome').size())\n",
    "print(\"\")\n",
    "print(\"There are total {} zero values for insulin \".format(diabetes[diabetes.Insulin  == 0].shape[0]))\n",
    "print(diabetes[diabetes.Insulin == 0].groupby('Outcome').size())"
   ]
  },
  {
   "cell_type": "markdown",
   "metadata": {},
   "source": [
    " Based on the previous results, we remove the rows which the **BloodPressure**, **BMI** and **Glucose** are zero."
   ]
  },
  {
   "cell_type": "code",
   "execution_count": 32,
   "metadata": {},
   "outputs": [
    {
     "name": "stdout",
     "output_type": "stream",
     "text": [
      "The dimensions of cleaned Pima Indians Diabetes Database dataset is (724, 9)\n"
     ]
    }
   ],
   "source": [
    "diabetes_mod = diabetes[(diabetes.BloodPressure != 0) & (diabetes.BMI != 0) & (diabetes.Glucose != 0)]\n",
    "print(\"The dimensions of cleaned Pima Indians Diabetes Database dataset is {}\".format(diabetes_mod.shape))"
   ]
  },
  {
   "cell_type": "markdown",
   "metadata": {},
   "source": [
    "## Stage 3 — Feature Engineering\n",
    "After data cleaning, we check again the basic statistics of our modified dataset."
   ]
  },
  {
   "cell_type": "code",
   "execution_count": 33,
   "metadata": {},
   "outputs": [
    {
     "data": {
      "text/html": [
       "<div>\n",
       "<style>\n",
       "    .dataframe thead tr:only-child th {\n",
       "        text-align: right;\n",
       "    }\n",
       "\n",
       "    .dataframe thead th {\n",
       "        text-align: left;\n",
       "    }\n",
       "\n",
       "    .dataframe tbody tr th {\n",
       "        vertical-align: top;\n",
       "    }\n",
       "</style>\n",
       "<table border=\"1\" class=\"dataframe\">\n",
       "  <thead>\n",
       "    <tr style=\"text-align: right;\">\n",
       "      <th></th>\n",
       "      <th>Pregnancies</th>\n",
       "      <th>Glucose</th>\n",
       "      <th>BloodPressure</th>\n",
       "      <th>SkinThickness</th>\n",
       "      <th>Insulin</th>\n",
       "      <th>BMI</th>\n",
       "      <th>DiabetesPedigreeFunction</th>\n",
       "      <th>Age</th>\n",
       "      <th>Outcome</th>\n",
       "    </tr>\n",
       "  </thead>\n",
       "  <tbody>\n",
       "    <tr>\n",
       "      <th>count</th>\n",
       "      <td>724.000000</td>\n",
       "      <td>724.000000</td>\n",
       "      <td>724.000000</td>\n",
       "      <td>724.000000</td>\n",
       "      <td>724.000000</td>\n",
       "      <td>724.000000</td>\n",
       "      <td>724.000000</td>\n",
       "      <td>724.000000</td>\n",
       "      <td>724.000000</td>\n",
       "    </tr>\n",
       "    <tr>\n",
       "      <th>mean</th>\n",
       "      <td>3.866022</td>\n",
       "      <td>121.882597</td>\n",
       "      <td>72.400552</td>\n",
       "      <td>21.443370</td>\n",
       "      <td>84.494475</td>\n",
       "      <td>32.467127</td>\n",
       "      <td>0.474765</td>\n",
       "      <td>33.350829</td>\n",
       "      <td>0.343923</td>\n",
       "    </tr>\n",
       "    <tr>\n",
       "      <th>std</th>\n",
       "      <td>3.362803</td>\n",
       "      <td>30.750030</td>\n",
       "      <td>12.379870</td>\n",
       "      <td>15.732756</td>\n",
       "      <td>117.016513</td>\n",
       "      <td>6.888941</td>\n",
       "      <td>0.332315</td>\n",
       "      <td>11.765393</td>\n",
       "      <td>0.475344</td>\n",
       "    </tr>\n",
       "    <tr>\n",
       "      <th>min</th>\n",
       "      <td>0.000000</td>\n",
       "      <td>44.000000</td>\n",
       "      <td>24.000000</td>\n",
       "      <td>0.000000</td>\n",
       "      <td>0.000000</td>\n",
       "      <td>18.200000</td>\n",
       "      <td>0.078000</td>\n",
       "      <td>21.000000</td>\n",
       "      <td>0.000000</td>\n",
       "    </tr>\n",
       "    <tr>\n",
       "      <th>25%</th>\n",
       "      <td>1.000000</td>\n",
       "      <td>99.750000</td>\n",
       "      <td>64.000000</td>\n",
       "      <td>0.000000</td>\n",
       "      <td>0.000000</td>\n",
       "      <td>27.500000</td>\n",
       "      <td>0.245000</td>\n",
       "      <td>24.000000</td>\n",
       "      <td>0.000000</td>\n",
       "    </tr>\n",
       "    <tr>\n",
       "      <th>50%</th>\n",
       "      <td>3.000000</td>\n",
       "      <td>117.000000</td>\n",
       "      <td>72.000000</td>\n",
       "      <td>24.000000</td>\n",
       "      <td>48.000000</td>\n",
       "      <td>32.400000</td>\n",
       "      <td>0.379000</td>\n",
       "      <td>29.000000</td>\n",
       "      <td>0.000000</td>\n",
       "    </tr>\n",
       "    <tr>\n",
       "      <th>75%</th>\n",
       "      <td>6.000000</td>\n",
       "      <td>142.000000</td>\n",
       "      <td>80.000000</td>\n",
       "      <td>33.000000</td>\n",
       "      <td>130.500000</td>\n",
       "      <td>36.600000</td>\n",
       "      <td>0.627500</td>\n",
       "      <td>41.000000</td>\n",
       "      <td>1.000000</td>\n",
       "    </tr>\n",
       "    <tr>\n",
       "      <th>max</th>\n",
       "      <td>17.000000</td>\n",
       "      <td>199.000000</td>\n",
       "      <td>122.000000</td>\n",
       "      <td>99.000000</td>\n",
       "      <td>846.000000</td>\n",
       "      <td>67.100000</td>\n",
       "      <td>2.420000</td>\n",
       "      <td>81.000000</td>\n",
       "      <td>1.000000</td>\n",
       "    </tr>\n",
       "  </tbody>\n",
       "</table>\n",
       "</div>"
      ],
      "text/plain": [
       "       Pregnancies     Glucose  BloodPressure  SkinThickness     Insulin  \\\n",
       "count   724.000000  724.000000     724.000000     724.000000  724.000000   \n",
       "mean      3.866022  121.882597      72.400552      21.443370   84.494475   \n",
       "std       3.362803   30.750030      12.379870      15.732756  117.016513   \n",
       "min       0.000000   44.000000      24.000000       0.000000    0.000000   \n",
       "25%       1.000000   99.750000      64.000000       0.000000    0.000000   \n",
       "50%       3.000000  117.000000      72.000000      24.000000   48.000000   \n",
       "75%       6.000000  142.000000      80.000000      33.000000  130.500000   \n",
       "max      17.000000  199.000000     122.000000      99.000000  846.000000   \n",
       "\n",
       "              BMI  DiabetesPedigreeFunction         Age     Outcome  \n",
       "count  724.000000                724.000000  724.000000  724.000000  \n",
       "mean    32.467127                  0.474765   33.350829    0.343923  \n",
       "std      6.888941                  0.332315   11.765393    0.475344  \n",
       "min     18.200000                  0.078000   21.000000    0.000000  \n",
       "25%     27.500000                  0.245000   24.000000    0.000000  \n",
       "50%     32.400000                  0.379000   29.000000    0.000000  \n",
       "75%     36.600000                  0.627500   41.000000    1.000000  \n",
       "max     67.100000                  2.420000   81.000000    1.000000  "
      ]
     },
     "execution_count": 33,
     "metadata": {},
     "output_type": "execute_result"
    }
   ],
   "source": [
    "diabetes_mod.describe()"
   ]
  },
  {
   "cell_type": "markdown",
   "metadata": {},
   "source": [
    "We can see that all features contain numeric data, however, the scale of each feature is inconsistent and we may need to apply some _feature scaling_ to enure that out learning model can handle this data correctly."
   ]
  },
  {
   "cell_type": "code",
   "execution_count": 34,
   "metadata": {
    "scrolled": true
   },
   "outputs": [
    {
     "name": "stdout",
     "output_type": "stream",
     "text": [
      "Mean of features: [-0. -0. -0. -0.  0. -0. -0.  0.]\n",
      "Standard deviation of features: [ 1.  1.  1.  1.  1.  1.  1.  1.]\n"
     ]
    }
   ],
   "source": [
    "# We will use all the features available to the X variable and the Outcome to the y variable\n",
    "feature_names = ['Pregnancies', 'Glucose', 'BloodPressure', 'SkinThickness', 'Insulin', 'BMI', 'DiabetesPedigreeFunction', 'Age']\n",
    "X = diabetes_mod[feature_names]\n",
    "y = diabetes_mod.Outcome\n",
    "\n",
    "\n",
    "# Apply feature scaling\n",
    "from sklearn.preprocessing import StandardScaler\n",
    "sc = StandardScaler()\n",
    "X_transform = sc.fit_transform(X)\n",
    "\n",
    "# Check the mean and standard deviation of X\n",
    "mean = np.mean(X_transform, axis=0)\n",
    "print('Mean of features: {}'.format(np.round(mean)))\n",
    "standard_deviation = np.std(X_transform, axis=0)\n",
    "print('Standard deviation of features: {}'.format(np.round(standard_deviation)))"
   ]
  },
  {
   "cell_type": "markdown",
   "metadata": {},
   "source": [
    "## Stage 4— Model Selection\n",
    "Establishing classifiers by several machine learning algorithms: **K-Nearest Neighbors, Support Vector Classifier, Logistic Regression, Gaussian Naive Bayes, Random Forest and Gradient Boost**, and then choose the model that performs best for the data set at hand."
   ]
  },
  {
   "cell_type": "code",
   "execution_count": 35,
   "metadata": {
    "scrolled": true
   },
   "outputs": [],
   "source": [
    "from sklearn.neighbors import KNeighborsClassifier\n",
    "from sklearn.svm import SVC\n",
    "from sklearn.linear_model import LogisticRegression\n",
    "from sklearn.tree import DecisionTreeClassifier\n",
    "from sklearn.naive_bayes import GaussianNB\n",
    "from sklearn.ensemble import RandomForestClassifier\n",
    "from sklearn.ensemble import GradientBoostingClassifier\n",
    "#from xgboost import XGBClassifier\n",
    "#from lightgbm import LGBMClassifier\n",
    "\n",
    "models = []\n",
    "models.append(('KNN', KNeighborsClassifier()))\n",
    "models.append(('SVC', SVC()))\n",
    "models.append(('LR', LogisticRegression()))\n",
    "models.append(('DT', DecisionTreeClassifier()))\n",
    "models.append(('GNB', GaussianNB()))\n",
    "models.append(('RF', RandomForestClassifier()))\n",
    "models.append(('GB', GradientBoostingClassifier()))\n",
    "#models.append(('XGB', XGBClassifier()))\n",
    "#models.append(('LGBM', LGBMClassifier()))"
   ]
  },
  {
   "cell_type": "markdown",
   "metadata": {},
   "source": [
    "### Split Data Into Training/Validation/Testing Set"
   ]
  },
  {
   "cell_type": "code",
   "execution_count": 36,
   "metadata": {},
   "outputs": [
    {
     "name": "stdout",
     "output_type": "stream",
     "text": [
      "Training set has 579 samples.\n",
      "Testing set has 145 samples.\n"
     ]
    }
   ],
   "source": [
    "from sklearn.model_selection import train_test_split\n",
    "\n",
    "X_train, X_test, y_train, y_test = train_test_split(X_transform,\n",
    "                                                    y, stratify = diabetes_mod.Outcome, \n",
    "                                                    test_size = 0.2,\n",
    "                                                    random_state=0)\n",
    "print \"Training set has {} samples.\".format(X_train.shape[0])\n",
    "print \"Testing set has {} samples.\".format(X_test.shape[0])"
   ]
  },
  {
   "cell_type": "code",
   "execution_count": 37,
   "metadata": {},
   "outputs": [],
   "source": [
    "from sklearn.metrics import matthews_corrcoef\n",
    "\n",
    "def performance_metric(y_true, y_predict):\n",
    "    \"\"\" Calculates and returns the performance score between \n",
    "        true and predicted values based on the metric chosen. \"\"\"\n",
    "    \n",
    "    # TODO: Calculate the performance score between 'y_true' and 'y_predict'\n",
    "    score = matthews_corrcoef(y_true, y_predict)\n",
    "    \n",
    "    # Return the score\n",
    "    return score"
   ]
  },
  {
   "cell_type": "markdown",
   "metadata": {},
   "source": [
    "### Benchmark Model"
   ]
  },
  {
   "cell_type": "markdown",
   "metadata": {},
   "source": [
    "A simple logistic regression binary classification model from kaggle is used as benchmark model. With using just two of the features provided, the model did a decent job of predicting the onset of diabetes within 5 years in Pima Indians. The model first builds a correlation matrix to see which features are highly correlated with **Outcome**. "
   ]
  },
  {
   "cell_type": "code",
   "execution_count": 38,
   "metadata": {},
   "outputs": [
    {
     "data": {
      "text/plain": [
       "Outcome                     1.000000\n",
       "Glucose                     0.466581\n",
       "BMI                         0.292695\n",
       "Age                         0.238356\n",
       "Pregnancies                 0.221898\n",
       "DiabetesPedigreeFunction    0.173844\n",
       "Insulin                     0.130548\n",
       "SkinThickness               0.074752\n",
       "BloodPressure               0.065068\n",
       "Name: Outcome, dtype: float64"
      ]
     },
     "execution_count": 38,
     "metadata": {},
     "output_type": "execute_result"
    }
   ],
   "source": [
    "correlations = diabetes.corr()\n",
    "correlations['Outcome'].sort_values(ascending=False)"
   ]
  },
  {
   "cell_type": "markdown",
   "metadata": {},
   "source": [
    "By viewing the correlation matrix, all feature columns have a positive correlation with **Outcome**, but **Glucose** and **BMI** appear to have the highest correlation and will be used as initail features for building the benchmark model."
   ]
  },
  {
   "cell_type": "code",
   "execution_count": 39,
   "metadata": {},
   "outputs": [
    {
     "name": "stdout",
     "output_type": "stream",
     "text": [
      "        Name   Score\n",
      "0  Benchmark  0.4368\n"
     ]
    }
   ],
   "source": [
    "from sklearn.metrics import make_scorer\n",
    "from sklearn.model_selection import KFold\n",
    "from sklearn.model_selection import cross_val_score\n",
    "\n",
    "feature_names_bm = ['Glucose', 'BMI']\n",
    "X_bm = sc.fit_transform(diabetes_mod[feature_names_bm])\n",
    "\n",
    "\n",
    "X_train_bm, X_test_bm, y_train_bm, y_test_bm = train_test_split(X_bm,\n",
    "                                                    y, stratify = diabetes_mod.Outcome, \n",
    "                                                    test_size = 0.2,\n",
    "                                                    random_state=0)\n",
    "\n",
    "model_bm = LogisticRegression()\n",
    "scoring_fnc = make_scorer(performance_metric)\n",
    "\n",
    "kfold = KFold(n_splits=10, random_state=42)\n",
    "score_bm = cross_val_score(model_bm, X_train_bm, y_train_bm, cv=kfold, scoring=scoring_fnc).mean()\n",
    "\n",
    "kf_cross_val_bm = pd.DataFrame({'Name': ['Benchmark'], 'Score': round(score_bm, 4)})\n",
    "print(kf_cross_val_bm)"
   ]
  },
  {
   "cell_type": "markdown",
   "metadata": {},
   "source": [
    "### Model Evaluation"
   ]
  },
  {
   "cell_type": "code",
   "execution_count": 40,
   "metadata": {},
   "outputs": [
    {
     "name": "stdout",
     "output_type": "stream",
     "text": [
      "  Name     Score\n",
      "0  KNN  0.387989\n",
      "1  SVC  0.440278\n",
      "2   LR  0.472510\n",
      "3   DT  0.247666\n",
      "4  GNB  0.463209\n",
      "5   RF  0.390487\n",
      "6   GB  0.428076\n"
     ]
    }
   ],
   "source": [
    "names = []\n",
    "scores = []\n",
    "\n",
    "\n",
    "for name, model in models:\n",
    "    \n",
    "    score = cross_val_score(model, X_train, y_train, cv=kfold, scoring=scoring_fnc).mean()\n",
    "    \n",
    "    names.append(name)\n",
    "    scores.append(score)\n",
    "    \n",
    "kf_cross_val = pd.DataFrame({'Name': names, 'Score': scores})\n",
    "print(kf_cross_val)"
   ]
  },
  {
   "cell_type": "code",
   "execution_count": 41,
   "metadata": {
    "scrolled": false
   },
   "outputs": [
    {
     "data": {
      "image/png": "[encoded data removed]",
      "text/plain": [
       "<matplotlib.figure.Figure at 0x1a1b258a90>"
      ]
     },
     "metadata": {},
     "output_type": "display_data"
    }
   ],
   "source": [
    "axis = sns.barplot(x = 'Name', y = 'Score', data = kf_cross_val)\n",
    "axis.set(xlabel='Classifier', ylabel='MCC')\n",
    "for p in axis.patches:\n",
    "    height = p.get_height()\n",
    "    axis.text(p.get_x() + p.get_width()/2, height + 0.005, '{:1.4f}'.format(height), ha=\"center\") \n",
    "    \n",
    "plt.show()"
   ]
  },
  {
   "cell_type": "markdown",
   "metadata": {},
   "source": [
    "From the above figure, we can see that the MCC score of **Logistic Regression**, **Support Vector Classifier**, **Gaussian Naive Bayes**, and **Random Forest** have out-performed the benchmark model (0.4368). In addition, Logistic Regression managed to achieve a Matthews correlation coefficient of 0.4725, which performs better than others. This will be selected as the prime candidate for the next stage."
   ]
  },
  {
   "cell_type": "markdown",
   "metadata": {},
   "source": [
    "## Stage 5— Feature Selection\n",
    "In the initail model evaluation stage, we adopt all the features to build our initial model. Most of the time, however, there are features that don’t improve the model. Here we use Recursive Feature Elimination (RF) provided by _Scikit Learn_ library that recursively removes attributes with least importance and building a model on those attributes that remain."
   ]
  },
  {
   "cell_type": "code",
   "execution_count": 42,
   "metadata": {},
   "outputs": [
    {
     "data": {
      "text/plain": [
       "RFECV(cv=KFold(n_splits=10, random_state=42, shuffle=False),\n",
       "   estimator=LogisticRegression(C=1.0, class_weight=None, dual=False, fit_intercept=True,\n",
       "          intercept_scaling=1, max_iter=100, multi_class='ovr', n_jobs=1,\n",
       "          penalty='l2', random_state=None, solver='liblinear', tol=0.0001,\n",
       "          verbose=0, warm_start=False),\n",
       "   n_jobs=1, scoring=make_scorer(performance_metric), step=1, verbose=0)"
      ]
     },
     "execution_count": 42,
     "metadata": {},
     "output_type": "execute_result"
    }
   ],
   "source": [
    "from sklearn.feature_selection import RFECV\n",
    "logreg_model = LogisticRegression()\n",
    "rfecv = RFECV(estimator=logreg_model, step=1, cv=kfold, scoring=scoring_fnc)\n",
    "rfecv.fit(X_train, y_train)"
   ]
  },
  {
   "cell_type": "code",
   "execution_count": 43,
   "metadata": {
    "scrolled": true
   },
   "outputs": [
    {
     "data": {
      "image/png": "[encoded data removed]",
      "text/plain": [
       "<matplotlib.figure.Figure at 0x1a1c5d7d90>"
      ]
     },
     "metadata": {},
     "output_type": "display_data"
    }
   ],
   "source": [
    "plt.figure()\n",
    "plt.title('Logistic Regression CV score vs No of Features')\n",
    "plt.xlabel(\"Number of features selected\")\n",
    "plt.ylabel(\"Cross validation score\")\n",
    "plt.plot(range(1, len(rfecv.grid_scores_) + 1), rfecv.grid_scores_)\n",
    "plt.show()"
   ]
  },
  {
   "cell_type": "markdown",
   "metadata": {},
   "source": [
    "By looking at the plot we can see that inputting 4 features to the model gives the best MCC score. we can find out the features which contribute the most to predicting by using RFECV's `support_` attribute."
   ]
  },
  {
   "cell_type": "code",
   "execution_count": 44,
   "metadata": {},
   "outputs": [
    {
     "name": "stdout",
     "output_type": "stream",
     "text": [
      "['Pregnancies', 'Glucose', 'BMI', 'DiabetesPedigreeFunction']\n"
     ]
    }
   ],
   "source": [
    "feature_importance = list(zip(feature_names, rfecv.support_))\n",
    "new_features = []\n",
    "for key,value in enumerate(feature_importance):\n",
    "    if(value[1]) == True:\n",
    "        new_features.append(value[0])\n",
    "        \n",
    "print(new_features)"
   ]
  },
  {
   "cell_type": "markdown",
   "metadata": {},
   "source": [
    "The above 4 features are most suitable for the model. We can compare the MCC score before and after feature selection."
   ]
  },
  {
   "cell_type": "code",
   "execution_count": 45,
   "metadata": {},
   "outputs": [
    {
     "name": "stdout",
     "output_type": "stream",
     "text": [
      "Initial MCC score : 0.4725 \n",
      "MCC score after Feature Selection : 0.4883 \n"
     ]
    }
   ],
   "source": [
    "# Calculate accuracy scores \n",
    "X_new = sc.fit_transform(diabetes_mod[new_features])\n",
    "\n",
    "X_train_new, X_test_new, y_train_new, y_test_new = train_test_split(X_new,\n",
    "                                                    y, stratify = diabetes_mod.Outcome, \n",
    "                                                    test_size = 0.2,\n",
    "                                                    random_state=0)\n",
    "\n",
    "initial_score = cross_val_score(logreg_model, X_train, y_train, cv=kfold, scoring=scoring_fnc).mean()\n",
    "print(\"Initial MCC score : {} \".format(round(initial_score, 4)))\n",
    "\n",
    "fe_score = cross_val_score(logreg_model, X_train_new, y_train_new, cv=kfold, scoring=scoring_fnc).mean()\n",
    "print(\"MCC score after Feature Selection : {} \".format(round(fe_score, 4)))"
   ]
  },
  {
   "cell_type": "markdown",
   "metadata": {},
   "source": [
    "## Stage 6—Model Parameter Tuning\n",
    "We have slightly improved the MCC score by feature selection. Here we then investigate the possiblility of further increasing the score by tweaking the parameters rather than just using default parameters provided by _Scikit Learn_. Instead of manually searching for optimum parameters, we can perform an _exhaustive_ search using the `GridSearchCV`, which does an exhaustive search over specified parameter values for an estimator."
   ]
  },
  {
   "cell_type": "code",
   "execution_count": 46,
   "metadata": {},
   "outputs": [
    {
     "data": {
      "text/plain": [
       "GridSearchCV(cv=KFold(n_splits=10, random_state=42, shuffle=False),\n",
       "       error_score='raise',\n",
       "       estimator=LogisticRegression(C=1.0, class_weight=None, dual=False, fit_intercept=True,\n",
       "          intercept_scaling=1, max_iter=100, multi_class='ovr', n_jobs=1,\n",
       "          penalty='l2', random_state=None, solver='liblinear', tol=0.0001,\n",
       "          verbose=0, warm_start=False),\n",
       "       fit_params=None, iid=True, n_jobs=1,\n",
       "       param_grid=[{'C': [1.0, 1.5, 2.0, 2.5, 3.0, 3.5, 4.0, 4.5, 5.0, 5.5, 6.0, 6.5, 7.0, 7.5, 8.0, 8.5, 9.0, 9.5], 'intercept_scaling': [1.0, 1.5, 2.0, 2.5, 3.0, 3.5, 4.0, 4.5, 5.0, 5.5, 6.0, 6.5, 7.0, 7.5, 8.0, 8.5, 9.0, 9.5], 'solver': ['liblinear'], 'penalty': ['l1'], 'multi_class': ['ovr'], 'class_we...0000002], 'solver': ['liblinear', 'newton-cg', 'lbfgs', 'sag'], 'class_weight': [None, 'balanced']}],\n",
       "       pre_dispatch='2*n_jobs', refit=True, return_train_score='warn',\n",
       "       scoring=make_scorer(performance_metric), verbose=0)"
      ]
     },
     "execution_count": 46,
     "metadata": {},
     "output_type": "execute_result"
    }
   ],
   "source": [
    "from sklearn.model_selection import GridSearchCV\n",
    "\n",
    "\n",
    "# Specify parameters\n",
    "c_values_0 = list(np.arange(1, 10, 0.5))\n",
    "c_values_1 = list(np.arange(1, 100, 10))\n",
    "c_values_2 = list(np.arange(0.1, 1, 0.1))\n",
    "\n",
    "intercept_scaling_values = list(np.arange(1, 10, 0.5))\n",
    "\n",
    "param_grid = [\n",
    "    {'C': c_values_0, 'class_weight': [None, 'balanced'], 'penalty': ['l1'], 'solver' : ['liblinear'], 'multi_class' : ['ovr'], 'intercept_scaling' : intercept_scaling_values},\n",
    "    {'C': c_values_1, 'class_weight': [None, 'balanced'], 'penalty': ['l1'], 'solver' : ['liblinear'], 'multi_class' : ['ovr'], 'intercept_scaling' : intercept_scaling_values},\n",
    "    {'C': c_values_2, 'class_weight': [None, 'balanced'], 'penalty': ['l1'], 'solver' : ['liblinear'], 'multi_class' : ['ovr'], 'intercept_scaling' : intercept_scaling_values},\n",
    "    {'C': c_values_0, 'class_weight': [None, 'balanced'], 'penalty': ['l2'], 'solver' : ['liblinear', 'newton-cg', 'lbfgs', 'sag'], 'multi_class' : ['ovr']},\n",
    "    {'C': c_values_1, 'class_weight': [None, 'balanced'], 'penalty': ['l2'], 'solver' : ['liblinear', 'newton-cg', 'lbfgs', 'sag'], 'multi_class' : ['ovr']},\n",
    "    {'C': c_values_2, 'class_weight': [None, 'balanced'],'penalty': ['l2'], 'solver' : ['liblinear', 'newton-cg', 'lbfgs', 'sag'], 'multi_class' : ['ovr']}\n",
    "]\n",
    "\n",
    "\n",
    "grid = GridSearchCV(LogisticRegression(), param_grid, cv=kfold, scoring=scoring_fnc)\n",
    "grid.fit(X_train_new, y_train_new)"
   ]
  },
  {
   "cell_type": "code",
   "execution_count": 47,
   "metadata": {
    "scrolled": true
   },
   "outputs": [
    {
     "name": "stdout",
     "output_type": "stream",
     "text": [
      "{'C': 1.0, 'intercept_scaling': 5.5, 'solver': 'liblinear', 'penalty': 'l1', 'multi_class': 'ovr', 'class_weight': 'balanced'}\n",
      "LogisticRegression(C=1.0, class_weight='balanced', dual=False,\n",
      "          fit_intercept=True, intercept_scaling=5.5, max_iter=100,\n",
      "          multi_class='ovr', n_jobs=1, penalty='l1', random_state=None,\n",
      "          solver='liblinear', tol=0.0001, verbose=0, warm_start=False)\n"
     ]
    }
   ],
   "source": [
    "print(grid.best_params_)\n",
    "print(grid.best_estimator_)"
   ]
  },
  {
   "cell_type": "code",
   "execution_count": 53,
   "metadata": {},
   "outputs": [
    {
     "name": "stdout",
     "output_type": "stream",
     "text": [
      "MCC score after Parameter Tuning : 0.4883 \n"
     ]
    }
   ],
   "source": [
    "pt_score = cross_val_score(grid.best_estimator_, X_train_new, y_train_new, cv=kfold, scoring=scoring_fnc).mean()\n",
    "\n",
    "print(\"MCC score after Parameter Tuning : {} \".format(round(fe_score, 4)))"
   ]
  },
  {
   "cell_type": "markdown",
   "metadata": {},
   "source": [
    "Finally, feed the best parameters to the Logistic Regression model and observe whether MCC score using testing set  has increased."
   ]
  },
  {
   "cell_type": "code",
   "execution_count": 56,
   "metadata": {},
   "outputs": [
    {
     "name": "stdout",
     "output_type": "stream",
     "text": [
      "MCC test score of benchmark model: 0.4762\n",
      "MCC test score of initial model: 0.468\n",
      "MCC test score after feature engineering: 0.5138\n",
      "MCC test score after parameter tuning: 0.551\n"
     ]
    }
   ],
   "source": [
    "logreg_model_pt = grid.best_estimator_\n",
    "logre_model_init = models[2][1]\n",
    "\n",
    "model_bm.fit(X_train_bm, y_train_bm)\n",
    "logre_model_init.fit(X_train, y_train)\n",
    "logreg_model.fit(X_train_new, y_train_new)\n",
    "logreg_model_pt.fit(X_train_new, y_train_new)\n",
    "\n",
    "bm_test_y_pred = model_bm.predict(X_test_bm)\n",
    "init_test_y_pred = logre_model_init.predict(X_test)\n",
    "fe_test_y_pred = logreg_model.predict(X_test_new)\n",
    "pt_test_y_pred = logreg_model_pt.predict(X_test_new)\n",
    "\n",
    "\n",
    "print(\"MCC test score of benchmark model: {}\".format(round(matthews_corrcoef(y_test_bm, bm_test_y_pred), 4)))\n",
    "print(\"MCC test score of initial model: {}\".format(round(matthews_corrcoef(y_test, init_test_y_pred), 4)))\n",
    "print(\"MCC test score after feature engineering: {}\".format(round(matthews_corrcoef(y_test_new, fe_test_y_pred), 4)))\n",
    "print(\"MCC test score after parameter tuning: {}\".format(round(matthews_corrcoef(y_test_new, pt_test_y_pred), 4)))"
   ]
  },
  {
   "cell_type": "markdown",
   "metadata": {},
   "source": [
    "We can see that the hyper-parameter tuning didn’t increase MCC score on testing set. Maybe the chosen hyper-parameters weren’t indicative enough."
   ]
  },
  {
   "cell_type": "code",
   "execution_count": 58,
   "metadata": {},
   "outputs": [
    {
     "data": {
      "image/png": "[encoded data removed]",
      "text/plain": [
       "<matplotlib.figure.Figure at 0x1a1dc23b90>"
      ]
     },
     "metadata": {},
     "output_type": "display_data"
    },
    {
     "data": {
      "image/png": "[encoded data removed]",
      "text/plain": [
       "<matplotlib.figure.Figure at 0x1a1d987050>"
      ]
     },
     "metadata": {},
     "output_type": "display_data"
    }
   ],
   "source": [
    "model_name = ['Benchmark', 'Inital', 'Feature-selected', 'Fine-tuned']\n",
    "average_MCC = [0.4368, 0.4725, 0.4883, 0.4883]\n",
    "test_MCC = [0.4762, 0.468, 0.5138, 0.551]\n",
    "\n",
    "df_summary = pd.DataFrame({'Name': model_name, 'Cross Validation MCC Score': average_MCC, 'Test MCC Score': test_MCC})\n",
    "\n",
    "axis = sns.barplot(x = 'Name', y = 'Cross Validation MCC Score', data = df_summary)\n",
    "axis.set(xlabel='Model', ylabel='Cross Validation MCC')\n",
    "for p in axis.patches:\n",
    "    height = p.get_height()\n",
    "    axis.text(p.get_x() + p.get_width()/2, height + 0.005, '{:1.4f}'.format(height), ha=\"center\") \n",
    "    \n",
    "plt.show()\n",
    "\n",
    "axis = sns.barplot(x = 'Name', y = 'Test MCC Score', data = df_summary)\n",
    "axis.set(xlabel='Model', ylabel='Test MCC Score')\n",
    "for p in axis.patches:\n",
    "    height = p.get_height()\n",
    "    axis.text(p.get_x() + p.get_width()/2, height + 0.005, '{:1.4f}'.format(height), ha=\"center\") \n",
    "    \n",
    "plt.show()"
   ]
  },
  {
   "cell_type": "code",
   "execution_count": null,
   "metadata": {},
   "outputs": [],
   "source": []
  }
 ],
 "metadata": {
  "kernelspec": {
   "display_name": "Python 2",
   "language": "python",
   "name": "python2"
  },
  "language_info": {
   "codemirror_mode": {
    "name": "ipython",
    "version": 2
   },
   "file_extension": ".py",
   "mimetype": "text/x-python",
   "name": "python",
   "nbconvert_exporter": "python",
   "pygments_lexer": "ipython2",
   "version": "2.7.14"
  }
 },
 "nbformat": 4,
 "nbformat_minor": 2
}
